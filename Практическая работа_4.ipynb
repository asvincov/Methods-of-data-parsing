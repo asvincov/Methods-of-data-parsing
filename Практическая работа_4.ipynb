{
 "cells": [
  {
   "cell_type": "code",
   "execution_count": 4,
   "id": "d55f3cef",
   "metadata": {},
   "outputs": [
    {
     "data": {
      "text/plain": [
       "'ru'"
      ]
     },
     "execution_count": 4,
     "metadata": {},
     "output_type": "execute_result"
    }
   ],
   "source": [
    "import requests\n",
    "import locale\n",
    "from lxml import html\n",
    "from pymongo import MongoClient\n",
    "from pymongo.errors import DuplicateKeyError\n",
    "from pprint import pprint\n",
    "from datetime import date\n",
    "\n",
    "locale.setlocale(locale.LC_TIME, 'ru')"
   ]
  },
  {
   "cell_type": "code",
   "execution_count": 13,
   "id": "d57ce568",
   "metadata": {},
   "outputs": [],
   "source": [
    "client = MongoClient('localhost', 27017)\n",
    "db = client['news']\n",
    "my_news = db.my_news"
   ]
  },
  {
   "cell_type": "code",
   "execution_count": 14,
   "id": "8d88bd16",
   "metadata": {},
   "outputs": [],
   "source": [
    "def add_data(doc, only_new = True):\n",
    "    exists = my_news.find_one({'link': doc['link']})\n",
    "    if only_new == True:\n",
    "        if not exists:\n",
    "            try:\n",
    "                my_news.insert_one(doc)\n",
    "            except DuplicateKeyError:\n",
    "                pass\n",
    "    else:\n",
    "        try:\n",
    "            my_news.insert_one(doc)\n",
    "        except DuplicateKeyError:\n",
    "            pass"
   ]
  },
  {
   "cell_type": "code",
   "execution_count": 15,
   "id": "2a1dd0f7",
   "metadata": {},
   "outputs": [
    {
     "name": "stdout",
     "output_type": "stream",
     "text": [
      "URL is https://lenta.ru/parts/news\n",
      "Status code is 200\n"
     ]
    }
   ],
   "source": [
    "headers = {'User-Agent': \"Mozilla/5.0 (Windows NT 10.0; Win64; x64) AppleWebKit/537.36 (KHTML, like Gecko) Chrome/115.0.0.0 Safari/537.36\"}\n",
    "url = 'http://lenta.ru'\n",
    "session = requests.Session()\n",
    "\n",
    "response = session.get(url+'/parts/news', headers = headers)\n",
    "\n",
    "print(f'URL is {response.url}')\n",
    "print(f'Status code is {response.status_code}')\n",
    "\n",
    "dom = html.fromstring(response.text)"
   ]
  },
  {
   "cell_type": "code",
   "execution_count": 16,
   "id": "1de2aa46",
   "metadata": {},
   "outputs": [],
   "source": [
    "items = dom.xpath(\"//li[@class='parts-page__item']\")\n",
    "for item in items:\n",
    "    news = {}\n",
    "    resource = url\n",
    "    name = item.xpath(\".//h3[@class='card-full-news__title']/text()\")\n",
    "    link = item.xpath(\".//h3[@class='card-full-news__title']/../@href\")\n",
    "    news_time = item.xpath(\".//time[contains(@class, 'card-full-news__date')]/text()\")\n",
    "    \n",
    "    news['resource'] = resource\n",
    "    news['name'] = ''.join(name)\n",
    "    \n",
    "    if 'https' in str(link):\n",
    "        news['link'] = ''.join(link)\n",
    "    else: \n",
    "        news['link'] = url + ''.join(link)\n",
    "    if len(''.join(news_time)) < 10:\n",
    "        news['news_time'] = ''.join(news_time) + ', ' + date.today().strftime(\"%d %B %Y\")\n",
    "        \n",
    "    else:\n",
    "        news['news_time'] = ''.join(news_time)\n",
    "        \n",
    "    add_data(news, only_new=True)"
   ]
  },
  {
   "cell_type": "code",
   "execution_count": 17,
   "id": "8f2ba704",
   "metadata": {},
   "outputs": [
    {
     "name": "stdout",
     "output_type": "stream",
     "text": [
      "{'_id': ObjectId('64cbc13b73b2c9e09ca821df'),\n",
      " 'link': 'http://lenta.ru/news/2023/08/03/dachniki_kalin/',\n",
      " 'name': 'Власти российского города захотели отнять дома у дачников',\n",
      " 'news_time': '18:00, 03 Август 2023',\n",
      " 'resource': 'http://lenta.ru'}\n",
      "{'_id': ObjectId('64cbc13b73b2c9e09ca821e0'),\n",
      " 'link': 'http://lenta.ru/news/2023/08/03/vorobyevskaya/',\n",
      " 'name': 'Собянин рассказал о благоустройстве еще одной набережной в Москве',\n",
      " 'news_time': '17:59, 03 Август 2023',\n",
      " 'resource': 'http://lenta.ru'}\n",
      "{'_id': ObjectId('64cbc13b73b2c9e09ca821e1'),\n",
      " 'link': 'http://lenta.ru/news/2023/08/03/lechenie/',\n",
      " 'name': 'Российского педофила-рецидивиста осудили на 16 лет и назначили ему '\n",
      "         'лечение',\n",
      " 'news_time': '17:58, 03 Август 2023',\n",
      " 'resource': 'http://lenta.ru'}\n",
      "{'_id': ObjectId('64cbc13b73b2c9e09ca821e2'),\n",
      " 'link': 'http://lenta.ru/news/2023/08/03/ready/',\n",
      " 'name': 'В Госдуме отреагировали на призыв прекратить госзакупки иномарок для '\n",
      "         'чиновников',\n",
      " 'news_time': '17:57, 03 Август 2023',\n",
      " 'resource': 'http://lenta.ru'}\n",
      "{'_id': ObjectId('64cbc13b73b2c9e09ca821e3'),\n",
      " 'link': 'http://lenta.ru/news/2023/08/03/highest_iq/',\n",
      " 'name': 'IQ 11-летнего вундеркинда превысил показатели Эйнштейна и Хокинга',\n",
      " 'news_time': '17:57, 03 Август 2023',\n",
      " 'resource': 'http://lenta.ru'}\n",
      "{'_id': ObjectId('64cbc13b73b2c9e09ca821e4'),\n",
      " 'link': 'http://lenta.ru/news/2023/08/03/okrashivanie/',\n",
      " 'name': 'Стилист назвал россиянам визуально старящие цвета волос',\n",
      " 'news_time': '17:56, 03 Август 2023',\n",
      " 'resource': 'http://lenta.ru'}\n",
      "{'_id': ObjectId('64cbc13b73b2c9e09ca821e5'),\n",
      " 'link': 'http://lenta.ru/news/2023/08/03/espania/',\n",
      " 'name': 'В Испании оценили влияние забастовок актеров и сценаристов США на '\n",
      "         'киноиндустрию',\n",
      " 'news_time': '17:52, 03 Август 2023',\n",
      " 'resource': 'http://lenta.ru'}\n",
      "{'_id': ObjectId('64cbc13b73b2c9e09ca821e6'),\n",
      " 'link': 'http://lenta.ru/news/2023/08/03/talibi/',\n",
      " 'name': 'Талибы попросили у России денег на дорогу до Европы',\n",
      " 'news_time': '17:49, 03 Август 2023',\n",
      " 'resource': 'http://lenta.ru'}\n",
      "{'_id': ObjectId('64cbc13b73b2c9e09ca821e7'),\n",
      " 'link': 'http://lenta.ru/news/2023/08/03/kurs_avgust/',\n",
      " 'name': 'В России допустили доллар по 100 рублей',\n",
      " 'news_time': '17:49, 03 Август 2023',\n",
      " 'resource': 'http://lenta.ru'}\n",
      "{'_id': ObjectId('64cbc13b73b2c9e09ca821e8'),\n",
      " 'link': 'http://lenta.ru/news/2023/08/03/baltic/',\n",
      " 'name': 'В Прибалтике назвали срок отключения от российской энергосистемы',\n",
      " 'news_time': '17:47, 03 Август 2023',\n",
      " 'resource': 'http://lenta.ru'}\n",
      "{'_id': ObjectId('64cbc13b73b2c9e09ca821e9'),\n",
      " 'link': 'http://lenta.ru/news/2023/08/03/samie_opasnie/',\n",
      " 'name': 'Названы самые опасные регионы для дачников',\n",
      " 'news_time': '17:46, 03 Август 2023',\n",
      " 'resource': 'http://lenta.ru'}\n",
      "{'_id': ObjectId('64cbc13b73b2c9e09ca821ea'),\n",
      " 'link': 'http://lenta.ru/news/2023/08/03/zuckerberg/',\n",
      " 'name': 'Марк Цукерберг назвал свой обычный заказ в «Макдоналдс» и удивил '\n",
      "         'бойца UFC',\n",
      " 'news_time': '17:46, 03 Август 2023',\n",
      " 'resource': 'http://lenta.ru'}\n",
      "{'_id': ObjectId('64cbc13b73b2c9e09ca821eb'),\n",
      " 'link': 'http://lenta.ru/news/2023/08/03/baby/',\n",
      " 'name': 'Пассажир обманом получил больше места в самолете и вызвал споры в '\n",
      "         'сети',\n",
      " 'news_time': '17:45, 03 Август 2023',\n",
      " 'resource': 'http://lenta.ru'}\n",
      "{'_id': ObjectId('64cbc13b73b2c9e09ca821ec'),\n",
      " 'link': 'http://lenta.ru/news/2023/08/03/poshliny/',\n",
      " 'name': 'Власти предложили снизить пошлины для экспорта в дружественные '\n",
      "         'страны',\n",
      " 'news_time': '17:44, 03 Август 2023',\n",
      " 'resource': 'http://lenta.ru'}\n",
      "{'_id': ObjectId('64cbc13b73b2c9e09ca821ed'),\n",
      " 'link': 'http://lenta.ru/news/2023/08/03/stas_bez_zubov/',\n",
      " 'name': 'Популярный российский блогер лишился зубов',\n",
      " 'news_time': '17:41, 03 Август 2023',\n",
      " 'resource': 'http://lenta.ru'}\n",
      "{'_id': ObjectId('64cbc13b73b2c9e09ca821ee'),\n",
      " 'link': 'http://lenta.ru/news/2023/08/03/ashipka/',\n",
      " 'name': 'В ФРГ признали ошибочность мнения о быстром решении конфликта на '\n",
      "         'Украине',\n",
      " 'news_time': '17:39, 03 Август 2023',\n",
      " 'resource': 'http://lenta.ru'}\n",
      "{'_id': ObjectId('64cbc13b73b2c9e09ca821ef'),\n",
      " 'link': 'http://lenta.ru/news/2023/08/03/kurtki_ustareli/',\n",
      " 'name': 'Россиянам назвали устаревшие осенние куртки',\n",
      " 'news_time': '17:37, 03 Август 2023',\n",
      " 'resource': 'http://lenta.ru'}\n",
      "{'_id': ObjectId('64cbc13b73b2c9e09ca821f0'),\n",
      " 'link': 'https://moslenta.ru/news/city/prismatrivayushii-za-kvartiroi-znakomykh-moskvich-ukral-dengi-i-cennosti-03-08-2023.htm/',\n",
      " 'name': 'Присматривающий за квартирой знакомых москвич вынес деньги и '\n",
      "         'ценности',\n",
      " 'news_time': '17:33, 03 Август 2023',\n",
      " 'resource': 'http://lenta.ru'}\n",
      "{'_id': ObjectId('64cbc13b73b2c9e09ca821f1'),\n",
      " 'link': 'https://moslenta.ru/news/city/kofe-populyarnogo-brenda-bolshe-ne-budut-prodavat-v-rossii-03-08-2023.htm/',\n",
      " 'name': 'Кофе популярного бренда перестанут продавать в России',\n",
      " 'news_time': '17:31, 03 Август 2023',\n",
      " 'resource': 'http://lenta.ru'}\n",
      "{'_id': ObjectId('64cbc13b73b2c9e09ca821f2'),\n",
      " 'link': 'http://lenta.ru/news/2023/08/03/naturalization/',\n",
      " 'name': 'Российский легкоатлет рассказал о пользе натурализации африканских '\n",
      "         'спортсменов',\n",
      " 'news_time': '17:30, 03 Август 2023',\n",
      " 'resource': 'http://lenta.ru'}\n"
     ]
    }
   ],
   "source": [
    "for item in my_news.find({'resource': url}):\n",
    "    pprint(item)"
   ]
  },
  {
   "cell_type": "code",
   "execution_count": null,
   "id": "0bfb83d5",
   "metadata": {},
   "outputs": [],
   "source": []
  }
 ],
 "metadata": {
  "kernelspec": {
   "display_name": "Python 3 (ipykernel)",
   "language": "python",
   "name": "python3"
  },
  "language_info": {
   "codemirror_mode": {
    "name": "ipython",
    "version": 3
   },
   "file_extension": ".py",
   "mimetype": "text/x-python",
   "name": "python",
   "nbconvert_exporter": "python",
   "pygments_lexer": "ipython3",
   "version": "3.9.12"
  }
 },
 "nbformat": 4,
 "nbformat_minor": 5
}
