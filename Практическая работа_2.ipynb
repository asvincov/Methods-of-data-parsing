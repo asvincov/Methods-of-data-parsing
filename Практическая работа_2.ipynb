{
 "cells": [
  {
   "cell_type": "markdown",
   "id": "c565c099",
   "metadata": {},
   "source": [
    "#### Задание: \n",
    "Необходимо собрать информацию о вакансиях на вводимую должность (используем input или через аргументы получаем должность) с сайта HH. Приложение должно анализировать все страницы сайта. Получившийся список должен содержать в себе минимум:\n",
    "Наименование вакансии.\n",
    "Предлагаемую зарплату (разносим в три поля: минимальная и максимальная и валюта. цифры преобразуем к цифрам).\n",
    "Ссылку на саму вакансию.\n",
    "Сайт, откуда собрана вакансия.\n",
    "По желанию можно добавить ещё параметры вакансии (например, работодателя и расположение). Общий результат можно вывести с помощью dataFrame через pandas. Сохраните в json либо csv."
   ]
  },
  {
   "cell_type": "code",
   "execution_count": null,
   "id": "422b13ec",
   "metadata": {},
   "outputs": [],
   "source": [
    "import requests\n",
    "from bs4 import BeautifulSoup\n",
    "from pprint import pprint\n",
    "from IPython.display import display\n",
    "import pandas as pd\n",
    "import numpy as np"
   ]
  },
  {
   "cell_type": "code",
   "execution_count": null,
   "id": "661211e9",
   "metadata": {},
   "outputs": [],
   "source": [
    "def hh_parser():\n",
    "    \n",
    "    url = \"https://hh.ru\"\n",
    "    vacancy = input(\"profession: \")\n",
    "    headers = {\"User-Agent\": \"Mozilla/5.0 (Windows NT 10.0; Win64; x64) AppleWebKit/537.36 (KHTML, like Gecko) Chrome/115.0.0.0 Safari/537.36\"}\n",
    "    params = {\"page\": 0}\n",
    "    session = requests.Session()\n",
    "    list_jobs = []\n",
    "    \n",
    "    while True:\n",
    "        \n",
    "        response = session.get(url = f\"/search/vacancy?text=(vacancy)\", headers = headers, params = params)\n",
    "        if response.status_code != 200:\n",
    "            break\n",
    "    \n",
    "        soup = BeautifulSoup(response.text, \"html.parser\")\n",
    "        jobs = soup.find_all(\"div\", {\"class\": \"serp-item\"})\n",
    "        \n",
    "        for job in jobs:\n",
    "            job_info = {\"min_salary\": np.Nan,\n",
    "                        \"max_salary\": np.Nan,\n",
    "                        \"currency\": None}\n",
    "            title = job.find(\"a\", {\"class\": \"serp-item__title\"})\n",
    "            job_info[\"name_job\"] = title.text\n",
    "            job_info[\"link\"] = title.get(\"href\")\n",
    "            salary = job.find(\"span\", {\"class\": \"bloko-header-section-2\"})\n",
    "            \n",
    "            if salary:\n",
    "                \n",
    "                salary_info = salary.text.split()\n",
    "                \n",
    "                if salary_info:\n",
    "                    if not salary_info[0].isdigit():\n",
    "                        str_salary = \"\"\n",
    "                        for ind in range(1, len(salary_info)):\n",
    "                            if not salary_info[ind].isdigit():\n",
    "                                break\n",
    "                            else:\n",
    "                                str_salary += salary_info[ind]\n",
    "                        if salary_info[0] == \"от\":\n",
    "                            jon_info[\"min_salary\"] = int(str_salary)\n",
    "                        elif salary_info[0] == \"до\":\n",
    "                            jon_info[\"max_salary\"] = int(str_salary)\n",
    "                    else:\n",
    "                        str_min_salary = \"\"\n",
    "                        str_max_salary = \"\"\n",
    "                        dash_index = 0\n",
    "                        for ind in range(0, len(salary_info) - 1):\n",
    "                            if not salary_info[ind].isdigit():\n",
    "                                dash_index = ind\n",
    "                                break\n",
    "                            else:\n",
    "                                str_min_salary += salary_info[ind]\n",
    "                        job_info[\"min_salary\"] = int(str_min_salary)\n",
    "                        for ind in range(dash_index + 1, len(salary_info) - 1):\n",
    "                            if not salary_info[ind].isdigit():\n",
    "                                break\n",
    "                            else:\n",
    "                                str_max_salary += salary_info[ind]\n",
    "                        job_info[\"max_salary\"] = int(str_max_salary)\n",
    "                    list_job.append(job_info.copy())\n",
    "                print(params[\"page\"])\n",
    "                params[\"page\"] += 1\n",
    "                \n",
    "            df_jobs = pd.DataFrame(list_jobs)\n",
    "            df_jobs.to_csv(\"Jobs.csv\")                           "
   ]
  },
  {
   "cell_type": "code",
   "execution_count": null,
   "id": "02964ee2",
   "metadata": {},
   "outputs": [],
   "source": [
    "hh_parser()"
   ]
  }
 ],
 "metadata": {
  "kernelspec": {
   "display_name": "Python 3 (ipykernel)",
   "language": "python",
   "name": "python3"
  },
  "language_info": {
   "codemirror_mode": {
    "name": "ipython",
    "version": 3
   },
   "file_extension": ".py",
   "mimetype": "text/x-python",
   "name": "python",
   "nbconvert_exporter": "python",
   "pygments_lexer": "ipython3",
   "version": "3.9.12"
  }
 },
 "nbformat": 4,
 "nbformat_minor": 5
}
