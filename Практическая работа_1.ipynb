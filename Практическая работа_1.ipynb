{
 "cells": [
  {
   "cell_type": "code",
   "execution_count": 14,
   "id": "09bb95ea",
   "metadata": {},
   "outputs": [],
   "source": [
    "import requests\n",
    "import json\n",
    "import os\n",
    "from PIL import Image\n",
    "from IPython.display import display\n",
    "import warnings\n",
    "\n",
    "warnings.filterwarnings('ignore')"
   ]
  },
  {
   "cell_type": "markdown",
   "id": "eb842002",
   "metadata": {},
   "source": [
    "#### 1. Посмотреть документацию к API GitHub, разобраться как вывести список репозиториев для конкретного пользователя, сохранить JSON-вывод в файле *.json."
   ]
  },
  {
   "cell_type": "code",
   "execution_count": 16,
   "id": "46311965",
   "metadata": {},
   "outputs": [],
   "source": [
    "def get_repositories(username):\n",
    "    \n",
    "    response = requests.get(f\"https://api.github.com/users/{username}/repos\")\n",
    "    \n",
    "    if response.status_code == 200:\n",
    "        data = response.json()\n",
    "        \n",
    "        if not os.path.isdir(\"json\"):\n",
    "            os.mkdir(\"json\")\n",
    "            \n",
    "        with open(\"./json/repositories.json\", \"w\") as file:\n",
    "            json.dump(data, file, indent=4)\n",
    "        \n",
    "        repository_names = [repo['name'] for repo in data][:10]    \n",
    "        return repository_names\n",
    "\n",
    "    else:\n",
    "        print(f\"Ошибка выполнении запроса {response.status_code} \")"
   ]
  },
  {
   "cell_type": "code",
   "execution_count": 19,
   "id": "d4881c65",
   "metadata": {},
   "outputs": [],
   "source": [
    "def print_repository_names(repository_names):\n",
    "    for number, name in enumerate(repository_names, 1):\n",
    "        print(f\"{number}. {name}\")"
   ]
  },
  {
   "cell_type": "code",
   "execution_count": 20,
   "id": "e43b00d3",
   "metadata": {},
   "outputs": [
    {
     "name": "stdout",
     "output_type": "stream",
     "text": [
      "1. Libraries-for-Data-Science\n",
      "2. Methods-of-data-parsing\n"
     ]
    }
   ],
   "source": [
    "username = \"asvincov\"\n",
    "repository_names = get_repositories(username)\n",
    "print_repository_names(repository_names)"
   ]
  },
  {
   "cell_type": "code",
   "execution_count": null,
   "id": "49b72ea1",
   "metadata": {},
   "outputs": [],
   "source": []
  }
 ],
 "metadata": {
  "kernelspec": {
   "display_name": "Python 3 (ipykernel)",
   "language": "python",
   "name": "python3"
  },
  "language_info": {
   "codemirror_mode": {
    "name": "ipython",
    "version": 3
   },
   "file_extension": ".py",
   "mimetype": "text/x-python",
   "name": "python",
   "nbconvert_exporter": "python",
   "pygments_lexer": "ipython3",
   "version": "3.9.12"
  }
 },
 "nbformat": 4,
 "nbformat_minor": 5
}
